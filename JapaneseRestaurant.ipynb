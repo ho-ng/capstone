{
    "cells": [
        {
            "cell_type": "markdown",
            "metadata": {},
            "source": "# Locations for Opening New Japanese Restaurant in Manhattan"
        },
        {
            "cell_type": "markdown",
            "metadata": {},
            "source": "## Introduction"
        },
        {
            "cell_type": "markdown",
            "metadata": {},
            "source": "This notebook describes the distribution of restaurant in Manhattan, New York City and provides some recommendations on good locations for opening new japanese restaurant in the area according to the findings. It is targeted for readers who are considering his/her own casual style Japanese restaurant within the area."
        },
        {
            "cell_type": "markdown",
            "metadata": {},
            "source": "## Data"
        },
        {
            "cell_type": "markdown",
            "metadata": {},
            "source": "The data referenced in this notebook are based on the New York City Neighborhood information provided by New York (City)\nDepartment of City Planning (https://geo.nyu.edu/catalog/nyu_2451_34572) and New York City Population By Neighborhood\nTabulation Areas published by NYC Open Data (https://data.cityofnewyork.us/City-Government/Manhattan-populations-by-\nneighborhood/8m6s-esnp). Combination of these data offers a overall picture on the distribution of the existing\nJapanese restaurant against the distribution of the potential customers in Manhattan. The two key ideas on selecting a\nnew location for a new restaurant are highly population but low competition."
        },
        {
            "cell_type": "markdown",
            "metadata": {},
            "source": "## Analysis"
        },
        {
            "cell_type": "markdown",
            "metadata": {},
            "source": "As preparation, we first import necessary data analysis tools:"
        },
        {
            "cell_type": "code",
            "execution_count": 1,
            "metadata": {},
            "outputs": [
                {
                    "name": "stdout",
                    "output_type": "stream",
                    "text": "Solving environment: done\n\n## Package Plan ##\n\n  environment location: /opt/conda/envs/Python36\n\n  added / updated specs: \n    - folium=0.5.0\n\n\nThe following packages will be downloaded:\n\n    package                    |            build\n    ---------------------------|-----------------\n    altair-4.0.1               |             py_0         575 KB  conda-forge\n    openssl-1.1.1d             |       h516909a_0         2.1 MB  conda-forge\n    certifi-2019.11.28         |           py36_0         149 KB  conda-forge\n    ca-certificates-2019.11.28 |       hecc5488_0         145 KB  conda-forge\n    vincent-0.4.4              |             py_1          28 KB  conda-forge\n    folium-0.5.0               |             py_0          45 KB  conda-forge\n    branca-0.3.1               |             py_0          25 KB  conda-forge\n    ------------------------------------------------------------\n                                           Total:         3.0 MB\n\nThe following NEW packages will be INSTALLED:\n\n    altair:          4.0.1-py_0        conda-forge\n    branca:          0.3.1-py_0        conda-forge\n    folium:          0.5.0-py_0        conda-forge\n    vincent:         0.4.4-py_1        conda-forge\n\nThe following packages will be UPDATED:\n\n    ca-certificates: 2019.11.27-0                  --> 2019.11.28-hecc5488_0 conda-forge\n    certifi:         2019.11.28-py36_0             --> 2019.11.28-py36_0     conda-forge\n\nThe following packages will be DOWNGRADED:\n\n    openssl:         1.1.1d-h7b6447c_3             --> 1.1.1d-h516909a_0     conda-forge\n\n\nDownloading and Extracting Packages\naltair-4.0.1         | 575 KB    | ##################################### | 100% \nopenssl-1.1.1d       | 2.1 MB    | ##################################### | 100% \ncertifi-2019.11.28   | 149 KB    | ##################################### | 100% \nca-certificates-2019 | 145 KB    | ##################################### | 100% \nvincent-0.4.4        | 28 KB     | ##################################### | 100% \nfolium-0.5.0         | 45 KB     | ##################################### | 100% \nbranca-0.3.1         | 25 KB     | ##################################### | 100% \nPreparing transaction: done\nVerifying transaction: done\nExecuting transaction: done\n"
                }
            ],
            "source": "import numpy as np # library to handle data in a vectorized manner\n\nimport pandas as pd # library for data analsysis\npd.set_option('display.max_columns', None)\npd.set_option('display.max_rows', None)\n\nimport json # library to handle JSON files\n\n#!conda install -c conda-forge geopy --yes # uncomment this line if you haven't completed the Foursquare API lab\nfrom geopy.geocoders import Nominatim # convert an address into latitude and longitude values\n\nimport requests # library to handle requests\nfrom pandas.io.json import json_normalize # tranform JSON file into a pandas dataframe\n\n# Matplotlib and associated plotting modules\nimport matplotlib.cm as cm\nimport matplotlib.colors as colors\n\n# import k-means from clustering stage\nfrom sklearn.cluster import KMeans\n\n!conda install -c conda-forge folium=0.5.0 --yes # uncomment this line if you haven't completed the Foursquare API lab\nimport folium # map rendering library"
        },
        {
            "cell_type": "markdown",
            "metadata": {},
            "source": "At the beginning, we download new york city dataset from New York City Department of Planning:"
        },
        {
            "cell_type": "code",
            "execution_count": 2,
            "metadata": {},
            "outputs": [],
            "source": "!wget -q -O 'newyork_data.json' https://cocl.us/new_york_dataset"
        },
        {
            "cell_type": "markdown",
            "metadata": {},
            "source": "Next, we read the new york city data from the downloaded file and tranform it into a data frame:"
        },
        {
            "cell_type": "code",
            "execution_count": 3,
            "metadata": {},
            "outputs": [],
            "source": "with open('newyork_data.json') as json_data:\n    newyork_data = json.load(json_data)"
        },
        {
            "cell_type": "code",
            "execution_count": 4,
            "metadata": {},
            "outputs": [
                {
                    "data": {
                        "text/html": "<div>\n<style scoped>\n    .dataframe tbody tr th:only-of-type {\n        vertical-align: middle;\n    }\n\n    .dataframe tbody tr th {\n        vertical-align: top;\n    }\n\n    .dataframe thead th {\n        text-align: right;\n    }\n</style>\n<table border=\"1\" class=\"dataframe\">\n  <thead>\n    <tr style=\"text-align: right;\">\n      <th></th>\n      <th>Borough</th>\n      <th>Neighborhood</th>\n      <th>Latitude</th>\n      <th>Longitude</th>\n    </tr>\n  </thead>\n  <tbody>\n    <tr>\n      <th>0</th>\n      <td>Bronx</td>\n      <td>Wakefield</td>\n      <td>40.894705</td>\n      <td>-73.847201</td>\n    </tr>\n    <tr>\n      <th>1</th>\n      <td>Bronx</td>\n      <td>Co-op City</td>\n      <td>40.874294</td>\n      <td>-73.829939</td>\n    </tr>\n    <tr>\n      <th>2</th>\n      <td>Bronx</td>\n      <td>Eastchester</td>\n      <td>40.887556</td>\n      <td>-73.827806</td>\n    </tr>\n    <tr>\n      <th>3</th>\n      <td>Bronx</td>\n      <td>Fieldston</td>\n      <td>40.895437</td>\n      <td>-73.905643</td>\n    </tr>\n    <tr>\n      <th>4</th>\n      <td>Bronx</td>\n      <td>Riverdale</td>\n      <td>40.890834</td>\n      <td>-73.912585</td>\n    </tr>\n  </tbody>\n</table>\n</div>",
                        "text/plain": "  Borough Neighborhood   Latitude  Longitude\n0   Bronx    Wakefield  40.894705 -73.847201\n1   Bronx   Co-op City  40.874294 -73.829939\n2   Bronx  Eastchester  40.887556 -73.827806\n3   Bronx    Fieldston  40.895437 -73.905643\n4   Bronx    Riverdale  40.890834 -73.912585"
                    },
                    "execution_count": 4,
                    "metadata": {},
                    "output_type": "execute_result"
                }
            ],
            "source": "# transform new york data into a dataframe\ncolumn_names = ['Borough', 'Neighborhood', 'Latitude', 'Longitude']\nneighborhoods_data = newyork_data['features']\nneighborhoods = pd.DataFrame(columns=column_names)\nfor data in neighborhoods_data:\n    borough = neighborhood_name = data['properties']['borough'] \n    neighborhood_name = data['properties']['name']\n        \n    neighborhood_latlon = data['geometry']['coordinates']\n    neighborhood_lat = neighborhood_latlon[1]\n    neighborhood_lon = neighborhood_latlon[0]\n    \n    neighborhoods = neighborhoods.append({'Borough': borough,\n                                          'Neighborhood': neighborhood_name,\n                                          'Latitude': neighborhood_lat,\n                                          'Longitude': neighborhood_lon}, ignore_index=True)\nneighborhoods.head()"
        },
        {
            "cell_type": "markdown",
            "metadata": {},
            "source": "Then, all the neighborhoods in Manhattan are extracted from the data frame:"
        },
        {
            "cell_type": "code",
            "execution_count": 5,
            "metadata": {},
            "outputs": [
                {
                    "data": {
                        "text/html": "<div>\n<style scoped>\n    .dataframe tbody tr th:only-of-type {\n        vertical-align: middle;\n    }\n\n    .dataframe tbody tr th {\n        vertical-align: top;\n    }\n\n    .dataframe thead th {\n        text-align: right;\n    }\n</style>\n<table border=\"1\" class=\"dataframe\">\n  <thead>\n    <tr style=\"text-align: right;\">\n      <th></th>\n      <th>Borough</th>\n      <th>Neighborhood</th>\n      <th>Latitude</th>\n      <th>Longitude</th>\n    </tr>\n  </thead>\n  <tbody>\n    <tr>\n      <th>0</th>\n      <td>Manhattan</td>\n      <td>Marble Hill</td>\n      <td>40.876551</td>\n      <td>-73.910660</td>\n    </tr>\n    <tr>\n      <th>1</th>\n      <td>Manhattan</td>\n      <td>Chinatown</td>\n      <td>40.715618</td>\n      <td>-73.994279</td>\n    </tr>\n    <tr>\n      <th>2</th>\n      <td>Manhattan</td>\n      <td>Washington Heights</td>\n      <td>40.851903</td>\n      <td>-73.936900</td>\n    </tr>\n    <tr>\n      <th>3</th>\n      <td>Manhattan</td>\n      <td>Inwood</td>\n      <td>40.867684</td>\n      <td>-73.921210</td>\n    </tr>\n    <tr>\n      <th>4</th>\n      <td>Manhattan</td>\n      <td>Hamilton Heights</td>\n      <td>40.823604</td>\n      <td>-73.949688</td>\n    </tr>\n  </tbody>\n</table>\n</div>",
                        "text/plain": "     Borough        Neighborhood   Latitude  Longitude\n0  Manhattan         Marble Hill  40.876551 -73.910660\n1  Manhattan           Chinatown  40.715618 -73.994279\n2  Manhattan  Washington Heights  40.851903 -73.936900\n3  Manhattan              Inwood  40.867684 -73.921210\n4  Manhattan    Hamilton Heights  40.823604 -73.949688"
                    },
                    "execution_count": 5,
                    "metadata": {},
                    "output_type": "execute_result"
                }
            ],
            "source": "# extract all neighborhoods in Manhattan\nmanhattan_data = neighborhoods[neighborhoods['Borough'] == 'Manhattan'].reset_index(drop=True)\nmanhattan_data.head()"
        },
        {
            "cell_type": "markdown",
            "metadata": {},
            "source": "Next, we define the search parameters for finding the existing Japanese restaurants with Manhattan:"
        },
        {
            "cell_type": "code",
            "execution_count": 6,
            "metadata": {},
            "outputs": [],
            "source": "# define foursquare API parameters\nCLIENT_ID = 'CY2VUJW5PSUOTPDV5BY5OAHY1KQ1N5PWRRUAKYGFJYCY5UET' # your Foursquare ID\nCLIENT_SECRET = 'CNOKO3MA2JZRHDK01UKPOIWDHEE0BN3OO5YGQEXBRUGLK2OS' # your Foursquare Secret\nVERSION = '20180605' # Foursquare API version"
        },
        {
            "cell_type": "code",
            "execution_count": 7,
            "metadata": {},
            "outputs": [],
            "source": "# define search parameters for finding japanese restaurant within the area\nLIMIT = 100 # limit of number of venues returned by Foursquare API\nradius = 1000 # define radius\nCATALOGID = '4bf58dd8d48988d111941735' # japanese restaurant"
        },
        {
            "cell_type": "markdown",
            "metadata": {},
            "source": "Next, we retrieve the information of all the Japanese restaurants from FourSquare.com:"
        },
        {
            "cell_type": "code",
            "execution_count": 8,
            "metadata": {},
            "outputs": [],
            "source": "# define a function for retrieving the restaurant info from foursquare.com recursively\ndef getNearbyVenues(names, latitudes, longitudes, radius=500):\n    \n    venues_list=[]\n    for name, lat, lng in zip(names, latitudes, longitudes):\n        #print(name)\n            \n        # create the API request URL\n        url = 'https://api.foursquare.com/v2/venues/search?&client_id={}&client_secret={}&v={}&ll={},{}&radius={}&limit={}&categoryId={}'.format(\n            CLIENT_ID, \n            CLIENT_SECRET, \n            VERSION, \n            lat, \n            lng, \n            radius, \n            LIMIT,\n            CATALOGID)\n            \n        # make the GET request\n        results = requests.get(url).json()[\"response\"]['venues']\n        \n        # return only relevant information for each nearby venue\n        venues_list.append([(\n            name, \n            lat, \n            lng, \n            v['name'], \n            v['location']['lat'], \n            v['location']['lng'],  \n            v['categories'][0]['name']) for v in results])\n\n    nearby_venues = pd.DataFrame([item for venue_list in venues_list for item in venue_list])\n    nearby_venues.columns = ['Neighborhood', \n                  'Neighborhood Latitude', \n                  'Neighborhood Longitude', \n                  'Venue', \n                  'Venue Latitude', \n                  'Venue Longitude', \n                  'Venue Category']\n    \n    return(nearby_venues)"
        },
        {
            "cell_type": "code",
            "execution_count": 9,
            "metadata": {},
            "outputs": [],
            "source": "# get all japanese restaurants in Manhattan from foursquare.com\nmanhattan_venues = getNearbyVenues(names=manhattan_data['Neighborhood'],\n                                   latitudes=manhattan_data['Latitude'],\n                                   longitudes=manhattan_data['Longitude']\n                                  )"
        },
        {
            "cell_type": "markdown",
            "metadata": {},
            "source": "For example, the first 5 Japanese restaurants and their information reported by FourSquare.com are as follow:"
        },
        {
            "cell_type": "code",
            "execution_count": 10,
            "metadata": {},
            "outputs": [
                {
                    "name": "stdout",
                    "output_type": "stream",
                    "text": "(973, 7)\n"
                },
                {
                    "data": {
                        "text/html": "<div>\n<style scoped>\n    .dataframe tbody tr th:only-of-type {\n        vertical-align: middle;\n    }\n\n    .dataframe tbody tr th {\n        vertical-align: top;\n    }\n\n    .dataframe thead th {\n        text-align: right;\n    }\n</style>\n<table border=\"1\" class=\"dataframe\">\n  <thead>\n    <tr style=\"text-align: right;\">\n      <th></th>\n      <th>Neighborhood</th>\n      <th>Neighborhood Latitude</th>\n      <th>Neighborhood Longitude</th>\n      <th>Venue</th>\n      <th>Venue Latitude</th>\n      <th>Venue Longitude</th>\n      <th>Venue Category</th>\n    </tr>\n  </thead>\n  <tbody>\n    <tr>\n      <th>0</th>\n      <td>Marble Hill</td>\n      <td>40.876551</td>\n      <td>-73.910660</td>\n      <td>Empire Chinese And Japanese Cuisine</td>\n      <td>40.878588</td>\n      <td>-73.917446</td>\n      <td>Japanese Restaurant</td>\n    </tr>\n    <tr>\n      <th>1</th>\n      <td>Chinatown</td>\n      <td>40.715618</td>\n      <td>-73.994279</td>\n      <td>Shinka Ramen &amp; Sake Bar</td>\n      <td>40.717147</td>\n      <td>-73.995206</td>\n      <td>Japanese Restaurant</td>\n    </tr>\n    <tr>\n      <th>2</th>\n      <td>Chinatown</td>\n      <td>40.715618</td>\n      <td>-73.994279</td>\n      <td>Gohan</td>\n      <td>40.715143</td>\n      <td>-73.991680</td>\n      <td>Japanese Restaurant</td>\n    </tr>\n    <tr>\n      <th>3</th>\n      <td>Chinatown</td>\n      <td>40.715618</td>\n      <td>-73.994279</td>\n      <td>Shinsen</td>\n      <td>40.715608</td>\n      <td>-73.996611</td>\n      <td>Japanese Restaurant</td>\n    </tr>\n    <tr>\n      <th>4</th>\n      <td>Chinatown</td>\n      <td>40.715618</td>\n      <td>-73.994279</td>\n      <td>Cocoron</td>\n      <td>40.720230</td>\n      <td>-73.992968</td>\n      <td>Japanese Restaurant</td>\n    </tr>\n  </tbody>\n</table>\n</div>",
                        "text/plain": "  Neighborhood  Neighborhood Latitude  Neighborhood Longitude  \\\n0  Marble Hill              40.876551              -73.910660   \n1    Chinatown              40.715618              -73.994279   \n2    Chinatown              40.715618              -73.994279   \n3    Chinatown              40.715618              -73.994279   \n4    Chinatown              40.715618              -73.994279   \n\n                                 Venue  Venue Latitude  Venue Longitude  \\\n0  Empire Chinese And Japanese Cuisine       40.878588       -73.917446   \n1              Shinka Ramen & Sake Bar       40.717147       -73.995206   \n2                                Gohan       40.715143       -73.991680   \n3                              Shinsen       40.715608       -73.996611   \n4                              Cocoron       40.720230       -73.992968   \n\n        Venue Category  \n0  Japanese Restaurant  \n1  Japanese Restaurant  \n2  Japanese Restaurant  \n3  Japanese Restaurant  \n4  Japanese Restaurant  "
                    },
                    "execution_count": 10,
                    "metadata": {},
                    "output_type": "execute_result"
                }
            ],
            "source": "print(manhattan_venues.shape)\nmanhattan_venues.head()"
        },
        {
            "cell_type": "markdown",
            "metadata": {},
            "source": "Display all venue categories related to japanese restaurant and the corresponding total number of existing restaurants in the area:"
        },
        {
            "cell_type": "code",
            "execution_count": 11,
            "metadata": {},
            "outputs": [
                {
                    "data": {
                        "text/html": "<div>\n<style scoped>\n    .dataframe tbody tr th:only-of-type {\n        vertical-align: middle;\n    }\n\n    .dataframe tbody tr th {\n        vertical-align: top;\n    }\n\n    .dataframe thead th {\n        text-align: right;\n    }\n</style>\n<table border=\"1\" class=\"dataframe\">\n  <thead>\n    <tr style=\"text-align: right;\">\n      <th></th>\n      <th>Neighborhood</th>\n      <th>Neighborhood Latitude</th>\n      <th>Neighborhood Longitude</th>\n      <th>Venue</th>\n      <th>Venue Latitude</th>\n      <th>Venue Longitude</th>\n    </tr>\n    <tr>\n      <th>Venue Category</th>\n      <th></th>\n      <th></th>\n      <th></th>\n      <th></th>\n      <th></th>\n      <th></th>\n    </tr>\n  </thead>\n  <tbody>\n    <tr>\n      <th>American Restaurant</th>\n      <td>1</td>\n      <td>1</td>\n      <td>1</td>\n      <td>1</td>\n      <td>1</td>\n      <td>1</td>\n    </tr>\n    <tr>\n      <th>Art Gallery</th>\n      <td>1</td>\n      <td>1</td>\n      <td>1</td>\n      <td>1</td>\n      <td>1</td>\n      <td>1</td>\n    </tr>\n    <tr>\n      <th>Asian Restaurant</th>\n      <td>21</td>\n      <td>21</td>\n      <td>21</td>\n      <td>21</td>\n      <td>21</td>\n      <td>21</td>\n    </tr>\n    <tr>\n      <th>BBQ Joint</th>\n      <td>2</td>\n      <td>2</td>\n      <td>2</td>\n      <td>2</td>\n      <td>2</td>\n      <td>2</td>\n    </tr>\n    <tr>\n      <th>Bakery</th>\n      <td>1</td>\n      <td>1</td>\n      <td>1</td>\n      <td>1</td>\n      <td>1</td>\n      <td>1</td>\n    </tr>\n    <tr>\n      <th>Beer Bar</th>\n      <td>1</td>\n      <td>1</td>\n      <td>1</td>\n      <td>1</td>\n      <td>1</td>\n      <td>1</td>\n    </tr>\n    <tr>\n      <th>Buffet</th>\n      <td>1</td>\n      <td>1</td>\n      <td>1</td>\n      <td>1</td>\n      <td>1</td>\n      <td>1</td>\n    </tr>\n    <tr>\n      <th>Building</th>\n      <td>1</td>\n      <td>1</td>\n      <td>1</td>\n      <td>1</td>\n      <td>1</td>\n      <td>1</td>\n    </tr>\n    <tr>\n      <th>Burger Joint</th>\n      <td>1</td>\n      <td>1</td>\n      <td>1</td>\n      <td>1</td>\n      <td>1</td>\n      <td>1</td>\n    </tr>\n    <tr>\n      <th>Caf\u00e9</th>\n      <td>2</td>\n      <td>2</td>\n      <td>2</td>\n      <td>2</td>\n      <td>2</td>\n      <td>2</td>\n    </tr>\n    <tr>\n      <th>Chinese Restaurant</th>\n      <td>2</td>\n      <td>2</td>\n      <td>2</td>\n      <td>2</td>\n      <td>2</td>\n      <td>2</td>\n    </tr>\n    <tr>\n      <th>Cocktail Bar</th>\n      <td>6</td>\n      <td>6</td>\n      <td>6</td>\n      <td>6</td>\n      <td>6</td>\n      <td>6</td>\n    </tr>\n    <tr>\n      <th>Coffee Shop</th>\n      <td>1</td>\n      <td>1</td>\n      <td>1</td>\n      <td>1</td>\n      <td>1</td>\n      <td>1</td>\n    </tr>\n    <tr>\n      <th>Deli / Bodega</th>\n      <td>2</td>\n      <td>2</td>\n      <td>2</td>\n      <td>2</td>\n      <td>2</td>\n      <td>2</td>\n    </tr>\n    <tr>\n      <th>Dessert Shop</th>\n      <td>1</td>\n      <td>1</td>\n      <td>1</td>\n      <td>1</td>\n      <td>1</td>\n      <td>1</td>\n    </tr>\n    <tr>\n      <th>Food Stand</th>\n      <td>1</td>\n      <td>1</td>\n      <td>1</td>\n      <td>1</td>\n      <td>1</td>\n      <td>1</td>\n    </tr>\n    <tr>\n      <th>Food Truck</th>\n      <td>3</td>\n      <td>3</td>\n      <td>3</td>\n      <td>3</td>\n      <td>3</td>\n      <td>3</td>\n    </tr>\n    <tr>\n      <th>Hawaiian Restaurant</th>\n      <td>1</td>\n      <td>1</td>\n      <td>1</td>\n      <td>1</td>\n      <td>1</td>\n      <td>1</td>\n    </tr>\n    <tr>\n      <th>Japanese Curry Restaurant</th>\n      <td>14</td>\n      <td>14</td>\n      <td>14</td>\n      <td>14</td>\n      <td>14</td>\n      <td>14</td>\n    </tr>\n    <tr>\n      <th>Japanese Restaurant</th>\n      <td>364</td>\n      <td>364</td>\n      <td>364</td>\n      <td>364</td>\n      <td>364</td>\n      <td>364</td>\n    </tr>\n    <tr>\n      <th>Karaoke Bar</th>\n      <td>2</td>\n      <td>2</td>\n      <td>2</td>\n      <td>2</td>\n      <td>2</td>\n      <td>2</td>\n    </tr>\n    <tr>\n      <th>Korean Restaurant</th>\n      <td>5</td>\n      <td>5</td>\n      <td>5</td>\n      <td>5</td>\n      <td>5</td>\n      <td>5</td>\n    </tr>\n    <tr>\n      <th>Lounge</th>\n      <td>1</td>\n      <td>1</td>\n      <td>1</td>\n      <td>1</td>\n      <td>1</td>\n      <td>1</td>\n    </tr>\n    <tr>\n      <th>New American Restaurant</th>\n      <td>1</td>\n      <td>1</td>\n      <td>1</td>\n      <td>1</td>\n      <td>1</td>\n      <td>1</td>\n    </tr>\n    <tr>\n      <th>Noodle House</th>\n      <td>12</td>\n      <td>12</td>\n      <td>12</td>\n      <td>12</td>\n      <td>12</td>\n      <td>12</td>\n    </tr>\n    <tr>\n      <th>Poke Place</th>\n      <td>4</td>\n      <td>4</td>\n      <td>4</td>\n      <td>4</td>\n      <td>4</td>\n      <td>4</td>\n    </tr>\n    <tr>\n      <th>Ramen Restaurant</th>\n      <td>100</td>\n      <td>100</td>\n      <td>100</td>\n      <td>100</td>\n      <td>100</td>\n      <td>100</td>\n    </tr>\n    <tr>\n      <th>Restaurant</th>\n      <td>1</td>\n      <td>1</td>\n      <td>1</td>\n      <td>1</td>\n      <td>1</td>\n      <td>1</td>\n    </tr>\n    <tr>\n      <th>Sake Bar</th>\n      <td>9</td>\n      <td>9</td>\n      <td>9</td>\n      <td>9</td>\n      <td>9</td>\n      <td>9</td>\n    </tr>\n    <tr>\n      <th>Salon / Barbershop</th>\n      <td>1</td>\n      <td>1</td>\n      <td>1</td>\n      <td>1</td>\n      <td>1</td>\n      <td>1</td>\n    </tr>\n    <tr>\n      <th>Seafood Restaurant</th>\n      <td>3</td>\n      <td>3</td>\n      <td>3</td>\n      <td>3</td>\n      <td>3</td>\n      <td>3</td>\n    </tr>\n    <tr>\n      <th>Shabu-Shabu Restaurant</th>\n      <td>4</td>\n      <td>4</td>\n      <td>4</td>\n      <td>4</td>\n      <td>4</td>\n      <td>4</td>\n    </tr>\n    <tr>\n      <th>Soba Restaurant</th>\n      <td>3</td>\n      <td>3</td>\n      <td>3</td>\n      <td>3</td>\n      <td>3</td>\n      <td>3</td>\n    </tr>\n    <tr>\n      <th>Steakhouse</th>\n      <td>1</td>\n      <td>1</td>\n      <td>1</td>\n      <td>1</td>\n      <td>1</td>\n      <td>1</td>\n    </tr>\n    <tr>\n      <th>Sushi Restaurant</th>\n      <td>382</td>\n      <td>382</td>\n      <td>382</td>\n      <td>382</td>\n      <td>382</td>\n      <td>382</td>\n    </tr>\n    <tr>\n      <th>Taco Place</th>\n      <td>1</td>\n      <td>1</td>\n      <td>1</td>\n      <td>1</td>\n      <td>1</td>\n      <td>1</td>\n    </tr>\n    <tr>\n      <th>Tea Room</th>\n      <td>1</td>\n      <td>1</td>\n      <td>1</td>\n      <td>1</td>\n      <td>1</td>\n      <td>1</td>\n    </tr>\n    <tr>\n      <th>Theme Restaurant</th>\n      <td>1</td>\n      <td>1</td>\n      <td>1</td>\n      <td>1</td>\n      <td>1</td>\n      <td>1</td>\n    </tr>\n    <tr>\n      <th>Tonkatsu Restaurant</th>\n      <td>1</td>\n      <td>1</td>\n      <td>1</td>\n      <td>1</td>\n      <td>1</td>\n      <td>1</td>\n    </tr>\n    <tr>\n      <th>Udon Restaurant</th>\n      <td>9</td>\n      <td>9</td>\n      <td>9</td>\n      <td>9</td>\n      <td>9</td>\n      <td>9</td>\n    </tr>\n    <tr>\n      <th>Vegetarian / Vegan Restaurant</th>\n      <td>4</td>\n      <td>4</td>\n      <td>4</td>\n      <td>4</td>\n      <td>4</td>\n      <td>4</td>\n    </tr>\n  </tbody>\n</table>\n</div>",
                        "text/plain": "                               Neighborhood  Neighborhood Latitude  \\\nVenue Category                                                       \nAmerican Restaurant                       1                      1   \nArt Gallery                               1                      1   \nAsian Restaurant                         21                     21   \nBBQ Joint                                 2                      2   \nBakery                                    1                      1   \nBeer Bar                                  1                      1   \nBuffet                                    1                      1   \nBuilding                                  1                      1   \nBurger Joint                              1                      1   \nCaf\u00e9                                      2                      2   \nChinese Restaurant                        2                      2   \nCocktail Bar                              6                      6   \nCoffee Shop                               1                      1   \nDeli / Bodega                             2                      2   \nDessert Shop                              1                      1   \nFood Stand                                1                      1   \nFood Truck                                3                      3   \nHawaiian Restaurant                       1                      1   \nJapanese Curry Restaurant                14                     14   \nJapanese Restaurant                     364                    364   \nKaraoke Bar                               2                      2   \nKorean Restaurant                         5                      5   \nLounge                                    1                      1   \nNew American Restaurant                   1                      1   \nNoodle House                             12                     12   \nPoke Place                                4                      4   \nRamen Restaurant                        100                    100   \nRestaurant                                1                      1   \nSake Bar                                  9                      9   \nSalon / Barbershop                        1                      1   \nSeafood Restaurant                        3                      3   \nShabu-Shabu Restaurant                    4                      4   \nSoba Restaurant                           3                      3   \nSteakhouse                                1                      1   \nSushi Restaurant                        382                    382   \nTaco Place                                1                      1   \nTea Room                                  1                      1   \nTheme Restaurant                          1                      1   \nTonkatsu Restaurant                       1                      1   \nUdon Restaurant                           9                      9   \nVegetarian / Vegan Restaurant             4                      4   \n\n                               Neighborhood Longitude  Venue  Venue Latitude  \\\nVenue Category                                                                 \nAmerican Restaurant                                 1      1               1   \nArt Gallery                                         1      1               1   \nAsian Restaurant                                   21     21              21   \nBBQ Joint                                           2      2               2   \nBakery                                              1      1               1   \nBeer Bar                                            1      1               1   \nBuffet                                              1      1               1   \nBuilding                                            1      1               1   \nBurger Joint                                        1      1               1   \nCaf\u00e9                                                2      2               2   \nChinese Restaurant                                  2      2               2   \nCocktail Bar                                        6      6               6   \nCoffee Shop                                         1      1               1   \nDeli / Bodega                                       2      2               2   \nDessert Shop                                        1      1               1   \nFood Stand                                          1      1               1   \nFood Truck                                          3      3               3   \nHawaiian Restaurant                                 1      1               1   \nJapanese Curry Restaurant                          14     14              14   \nJapanese Restaurant                               364    364             364   \nKaraoke Bar                                         2      2               2   \nKorean Restaurant                                   5      5               5   \nLounge                                              1      1               1   \nNew American Restaurant                             1      1               1   \nNoodle House                                       12     12              12   \nPoke Place                                          4      4               4   \nRamen Restaurant                                  100    100             100   \nRestaurant                                          1      1               1   \nSake Bar                                            9      9               9   \nSalon / Barbershop                                  1      1               1   \nSeafood Restaurant                                  3      3               3   \nShabu-Shabu Restaurant                              4      4               4   \nSoba Restaurant                                     3      3               3   \nSteakhouse                                          1      1               1   \nSushi Restaurant                                  382    382             382   \nTaco Place                                          1      1               1   \nTea Room                                            1      1               1   \nTheme Restaurant                                    1      1               1   \nTonkatsu Restaurant                                 1      1               1   \nUdon Restaurant                                     9      9               9   \nVegetarian / Vegan Restaurant                       4      4               4   \n\n                               Venue Longitude  \nVenue Category                                  \nAmerican Restaurant                          1  \nArt Gallery                                  1  \nAsian Restaurant                            21  \nBBQ Joint                                    2  \nBakery                                       1  \nBeer Bar                                     1  \nBuffet                                       1  \nBuilding                                     1  \nBurger Joint                                 1  \nCaf\u00e9                                         2  \nChinese Restaurant                           2  \nCocktail Bar                                 6  \nCoffee Shop                                  1  \nDeli / Bodega                                2  \nDessert Shop                                 1  \nFood Stand                                   1  \nFood Truck                                   3  \nHawaiian Restaurant                          1  \nJapanese Curry Restaurant                   14  \nJapanese Restaurant                        364  \nKaraoke Bar                                  2  \nKorean Restaurant                            5  \nLounge                                       1  \nNew American Restaurant                      1  \nNoodle House                                12  \nPoke Place                                   4  \nRamen Restaurant                           100  \nRestaurant                                   1  \nSake Bar                                     9  \nSalon / Barbershop                           1  \nSeafood Restaurant                           3  \nShabu-Shabu Restaurant                       4  \nSoba Restaurant                              3  \nSteakhouse                                   1  \nSushi Restaurant                           382  \nTaco Place                                   1  \nTea Room                                     1  \nTheme Restaurant                             1  \nTonkatsu Restaurant                          1  \nUdon Restaurant                              9  \nVegetarian / Vegan Restaurant                4  "
                    },
                    "execution_count": 11,
                    "metadata": {},
                    "output_type": "execute_result"
                }
            ],
            "source": "manhattan_venues.groupby('Venue Category').count()"
        },
        {
            "cell_type": "markdown",
            "metadata": {},
            "source": "Since there are some restaurants in the table in which they are not actually offering Japanese cuisine, we remove them from our list of japanese restaurants:"
        },
        {
            "cell_type": "code",
            "execution_count": 12,
            "metadata": {},
            "outputs": [
                {
                    "data": {
                        "text/html": "<div>\n<style scoped>\n    .dataframe tbody tr th:only-of-type {\n        vertical-align: middle;\n    }\n\n    .dataframe tbody tr th {\n        vertical-align: top;\n    }\n\n    .dataframe thead th {\n        text-align: right;\n    }\n</style>\n<table border=\"1\" class=\"dataframe\">\n  <thead>\n    <tr style=\"text-align: right;\">\n      <th></th>\n      <th>Neighborhood</th>\n      <th>Neighborhood Latitude</th>\n      <th>Neighborhood Longitude</th>\n      <th>Venue</th>\n      <th>Venue Latitude</th>\n      <th>Venue Longitude</th>\n      <th>Venue Category</th>\n    </tr>\n  </thead>\n  <tbody>\n    <tr>\n      <th>0</th>\n      <td>Marble Hill</td>\n      <td>40.876551</td>\n      <td>-73.910660</td>\n      <td>Empire Chinese And Japanese Cuisine</td>\n      <td>40.878588</td>\n      <td>-73.917446</td>\n      <td>Japanese Restaurant</td>\n    </tr>\n    <tr>\n      <th>1</th>\n      <td>Chinatown</td>\n      <td>40.715618</td>\n      <td>-73.994279</td>\n      <td>Shinka Ramen &amp; Sake Bar</td>\n      <td>40.717147</td>\n      <td>-73.995206</td>\n      <td>Japanese Restaurant</td>\n    </tr>\n    <tr>\n      <th>2</th>\n      <td>Chinatown</td>\n      <td>40.715618</td>\n      <td>-73.994279</td>\n      <td>Gohan</td>\n      <td>40.715143</td>\n      <td>-73.991680</td>\n      <td>Japanese Restaurant</td>\n    </tr>\n    <tr>\n      <th>3</th>\n      <td>Chinatown</td>\n      <td>40.715618</td>\n      <td>-73.994279</td>\n      <td>Shinsen</td>\n      <td>40.715608</td>\n      <td>-73.996611</td>\n      <td>Japanese Restaurant</td>\n    </tr>\n    <tr>\n      <th>4</th>\n      <td>Chinatown</td>\n      <td>40.715618</td>\n      <td>-73.994279</td>\n      <td>Cocoron</td>\n      <td>40.720230</td>\n      <td>-73.992968</td>\n      <td>Japanese Restaurant</td>\n    </tr>\n  </tbody>\n</table>\n</div>",
                        "text/plain": "  Neighborhood  Neighborhood Latitude  Neighborhood Longitude  \\\n0  Marble Hill              40.876551              -73.910660   \n1    Chinatown              40.715618              -73.994279   \n2    Chinatown              40.715618              -73.994279   \n3    Chinatown              40.715618              -73.994279   \n4    Chinatown              40.715618              -73.994279   \n\n                                 Venue  Venue Latitude  Venue Longitude  \\\n0  Empire Chinese And Japanese Cuisine       40.878588       -73.917446   \n1              Shinka Ramen & Sake Bar       40.717147       -73.995206   \n2                                Gohan       40.715143       -73.991680   \n3                              Shinsen       40.715608       -73.996611   \n4                              Cocoron       40.720230       -73.992968   \n\n        Venue Category  \n0  Japanese Restaurant  \n1  Japanese Restaurant  \n2  Japanese Restaurant  \n3  Japanese Restaurant  \n4  Japanese Restaurant  "
                    },
                    "execution_count": 12,
                    "metadata": {},
                    "output_type": "execute_result"
                }
            ],
            "source": "# remove restaurants which are actually offering non-japanese style cuisine\njplist = ['Japanese Curry Restaurant','Japanese Restaurant','Noodle House','Poke Place','Ramen Restaurant','Sake Bar','Shabu-Shabu Restaurant','Soba Restaurant','Sushi Restaurant','Tonkatsu Restaurant','Udon Restaurant']\njp_restaurant = manhattan_venues[manhattan_venues['Venue Category'].isin(jplist)]\njp_restaurant.head()"
        },
        {
            "cell_type": "markdown",
            "metadata": {},
            "source": "Next, we count the number of japanese restaurants in each neighborhood in Manhattan:"
        },
        {
            "cell_type": "code",
            "execution_count": 13,
            "metadata": {},
            "outputs": [
                {
                    "data": {
                        "text/html": "<div>\n<style scoped>\n    .dataframe tbody tr th:only-of-type {\n        vertical-align: middle;\n    }\n\n    .dataframe tbody tr th {\n        vertical-align: top;\n    }\n\n    .dataframe thead th {\n        text-align: right;\n    }\n</style>\n<table border=\"1\" class=\"dataframe\">\n  <thead>\n    <tr style=\"text-align: right;\">\n      <th></th>\n      <th>Neighborhood</th>\n      <th>Count</th>\n    </tr>\n  </thead>\n  <tbody>\n    <tr>\n      <th>0</th>\n      <td>Battery Park City</td>\n      <td>6</td>\n    </tr>\n    <tr>\n      <th>1</th>\n      <td>Carnegie Hill</td>\n      <td>14</td>\n    </tr>\n    <tr>\n      <th>2</th>\n      <td>Central Harlem</td>\n      <td>2</td>\n    </tr>\n    <tr>\n      <th>3</th>\n      <td>Chelsea</td>\n      <td>34</td>\n    </tr>\n    <tr>\n      <th>4</th>\n      <td>Chinatown</td>\n      <td>36</td>\n    </tr>\n    <tr>\n      <th>5</th>\n      <td>Civic Center</td>\n      <td>35</td>\n    </tr>\n    <tr>\n      <th>6</th>\n      <td>Clinton</td>\n      <td>29</td>\n    </tr>\n    <tr>\n      <th>7</th>\n      <td>East Harlem</td>\n      <td>2</td>\n    </tr>\n    <tr>\n      <th>8</th>\n      <td>East Village</td>\n      <td>45</td>\n    </tr>\n    <tr>\n      <th>9</th>\n      <td>Financial District</td>\n      <td>39</td>\n    </tr>\n    <tr>\n      <th>10</th>\n      <td>Flatiron</td>\n      <td>36</td>\n    </tr>\n    <tr>\n      <th>11</th>\n      <td>Gramercy</td>\n      <td>28</td>\n    </tr>\n    <tr>\n      <th>12</th>\n      <td>Greenwich Village</td>\n      <td>38</td>\n    </tr>\n    <tr>\n      <th>13</th>\n      <td>Hamilton Heights</td>\n      <td>3</td>\n    </tr>\n    <tr>\n      <th>14</th>\n      <td>Hudson Yards</td>\n      <td>5</td>\n    </tr>\n    <tr>\n      <th>15</th>\n      <td>Lenox Hill</td>\n      <td>30</td>\n    </tr>\n    <tr>\n      <th>16</th>\n      <td>Lincoln Square</td>\n      <td>3</td>\n    </tr>\n    <tr>\n      <th>17</th>\n      <td>Little Italy</td>\n      <td>40</td>\n    </tr>\n    <tr>\n      <th>18</th>\n      <td>Lower East Side</td>\n      <td>12</td>\n    </tr>\n    <tr>\n      <th>19</th>\n      <td>Manhattan Valley</td>\n      <td>7</td>\n    </tr>\n    <tr>\n      <th>20</th>\n      <td>Manhattanville</td>\n      <td>7</td>\n    </tr>\n    <tr>\n      <th>21</th>\n      <td>Marble Hill</td>\n      <td>1</td>\n    </tr>\n    <tr>\n      <th>22</th>\n      <td>Midtown</td>\n      <td>39</td>\n    </tr>\n    <tr>\n      <th>23</th>\n      <td>Midtown South</td>\n      <td>45</td>\n    </tr>\n    <tr>\n      <th>24</th>\n      <td>Morningside Heights</td>\n      <td>1</td>\n    </tr>\n    <tr>\n      <th>25</th>\n      <td>Murray Hill</td>\n      <td>44</td>\n    </tr>\n    <tr>\n      <th>26</th>\n      <td>Noho</td>\n      <td>46</td>\n    </tr>\n    <tr>\n      <th>27</th>\n      <td>Roosevelt Island</td>\n      <td>1</td>\n    </tr>\n    <tr>\n      <th>28</th>\n      <td>Soho</td>\n      <td>37</td>\n    </tr>\n    <tr>\n      <th>29</th>\n      <td>Stuyvesant Town</td>\n      <td>1</td>\n    </tr>\n    <tr>\n      <th>30</th>\n      <td>Sutton Place</td>\n      <td>38</td>\n    </tr>\n    <tr>\n      <th>31</th>\n      <td>Tribeca</td>\n      <td>13</td>\n    </tr>\n    <tr>\n      <th>32</th>\n      <td>Tudor City</td>\n      <td>45</td>\n    </tr>\n    <tr>\n      <th>33</th>\n      <td>Turtle Bay</td>\n      <td>45</td>\n    </tr>\n    <tr>\n      <th>34</th>\n      <td>Upper East Side</td>\n      <td>16</td>\n    </tr>\n    <tr>\n      <th>35</th>\n      <td>Upper West Side</td>\n      <td>16</td>\n    </tr>\n    <tr>\n      <th>36</th>\n      <td>Washington Heights</td>\n      <td>3</td>\n    </tr>\n    <tr>\n      <th>37</th>\n      <td>West Village</td>\n      <td>37</td>\n    </tr>\n    <tr>\n      <th>38</th>\n      <td>Yorkville</td>\n      <td>23</td>\n    </tr>\n  </tbody>\n</table>\n</div>",
                        "text/plain": "           Neighborhood  Count\n0     Battery Park City      6\n1         Carnegie Hill     14\n2        Central Harlem      2\n3               Chelsea     34\n4             Chinatown     36\n5          Civic Center     35\n6               Clinton     29\n7           East Harlem      2\n8          East Village     45\n9    Financial District     39\n10             Flatiron     36\n11             Gramercy     28\n12    Greenwich Village     38\n13     Hamilton Heights      3\n14         Hudson Yards      5\n15           Lenox Hill     30\n16       Lincoln Square      3\n17         Little Italy     40\n18      Lower East Side     12\n19     Manhattan Valley      7\n20       Manhattanville      7\n21          Marble Hill      1\n22              Midtown     39\n23        Midtown South     45\n24  Morningside Heights      1\n25          Murray Hill     44\n26                 Noho     46\n27     Roosevelt Island      1\n28                 Soho     37\n29      Stuyvesant Town      1\n30         Sutton Place     38\n31              Tribeca     13\n32           Tudor City     45\n33           Turtle Bay     45\n34      Upper East Side     16\n35      Upper West Side     16\n36   Washington Heights      3\n37         West Village     37\n38            Yorkville     23"
                    },
                    "execution_count": 13,
                    "metadata": {},
                    "output_type": "execute_result"
                }
            ],
            "source": "df_count = jp_restaurant.groupby('Neighborhood').count()\ndf_count = df_count[['Venue']].reset_index()\ndf_count.rename(columns={'Venue':'Count'}, inplace=True)\ndf_count"
        },
        {
            "cell_type": "markdown",
            "metadata": {},
            "source": "Next, we retrieve the Manhattan population data from NYC Open Data:\nhttps://data.cityofnewyork.us/City-Government/Manhattan-populations-by-neighborhood/8m6s-esnp"
        },
        {
            "cell_type": "code",
            "execution_count": 20,
            "metadata": {},
            "outputs": [
                {
                    "data": {
                        "text/html": "<div>\n<style scoped>\n    .dataframe tbody tr th:only-of-type {\n        vertical-align: middle;\n    }\n\n    .dataframe tbody tr th {\n        vertical-align: top;\n    }\n\n    .dataframe thead th {\n        text-align: right;\n    }\n</style>\n<table border=\"1\" class=\"dataframe\">\n  <thead>\n    <tr style=\"text-align: right;\">\n      <th></th>\n      <th>Borough</th>\n      <th>Year</th>\n      <th>FIPS County Code</th>\n      <th>NTA Code</th>\n      <th>NTA Name</th>\n      <th>Population</th>\n    </tr>\n  </thead>\n  <tbody>\n    <tr>\n      <th>0</th>\n      <td>Manhattan</td>\n      <td>2010</td>\n      <td>61</td>\n      <td>MN01</td>\n      <td>Marble Hill</td>\n      <td>46746</td>\n    </tr>\n    <tr>\n      <th>1</th>\n      <td>Manhattan</td>\n      <td>2010</td>\n      <td>61</td>\n      <td>MN02</td>\n      <td>Inwood</td>\n      <td>46746</td>\n    </tr>\n    <tr>\n      <th>2</th>\n      <td>Manhattan</td>\n      <td>2010</td>\n      <td>61</td>\n      <td>MN03</td>\n      <td>Central Harlem</td>\n      <td>75282</td>\n    </tr>\n    <tr>\n      <th>3</th>\n      <td>Manhattan</td>\n      <td>2010</td>\n      <td>61</td>\n      <td>MN04</td>\n      <td>Hamilton Heights</td>\n      <td>48520</td>\n    </tr>\n    <tr>\n      <th>4</th>\n      <td>Manhattan</td>\n      <td>2010</td>\n      <td>61</td>\n      <td>MN05</td>\n      <td>Manhattanville</td>\n      <td>22950</td>\n    </tr>\n  </tbody>\n</table>\n</div>",
                        "text/plain": "     Borough  Year  FIPS County Code NTA Code          NTA Name  Population\n0  Manhattan  2010                61     MN01       Marble Hill       46746\n1  Manhattan  2010                61     MN02            Inwood       46746\n2  Manhattan  2010                61     MN03    Central Harlem       75282\n3  Manhattan  2010                61     MN04  Hamilton Heights       48520\n4  Manhattan  2010                61     MN05    Manhattanville       22950"
                    },
                    "execution_count": 20,
                    "metadata": {},
                    "output_type": "execute_result"
                }
            ],
            "source": "# The code was removed by Watson Studio for sharing."
        },
        {
            "cell_type": "markdown",
            "metadata": {},
            "source": "To visualize the data together with the restaurant information, we combine the resturant count table with the population data:"
        },
        {
            "cell_type": "code",
            "execution_count": 21,
            "metadata": {},
            "outputs": [
                {
                    "data": {
                        "text/html": "<div>\n<style scoped>\n    .dataframe tbody tr th:only-of-type {\n        vertical-align: middle;\n    }\n\n    .dataframe tbody tr th {\n        vertical-align: top;\n    }\n\n    .dataframe thead th {\n        text-align: right;\n    }\n</style>\n<table border=\"1\" class=\"dataframe\">\n  <thead>\n    <tr style=\"text-align: right;\">\n      <th></th>\n      <th>Neighborhood</th>\n      <th>Count</th>\n      <th>Borough</th>\n      <th>Year</th>\n      <th>FIPS County Code</th>\n      <th>NTA Code</th>\n      <th>Population</th>\n    </tr>\n  </thead>\n  <tbody>\n    <tr>\n      <th>0</th>\n      <td>Battery Park City</td>\n      <td>6</td>\n      <td>Manhattan</td>\n      <td>2010</td>\n      <td>61</td>\n      <td>MN29</td>\n      <td>39699</td>\n    </tr>\n    <tr>\n      <th>1</th>\n      <td>Carnegie Hill</td>\n      <td>14</td>\n      <td>Manhattan</td>\n      <td>2010</td>\n      <td>61</td>\n      <td>MN51</td>\n      <td>84491</td>\n    </tr>\n    <tr>\n      <th>2</th>\n      <td>Central Harlem</td>\n      <td>2</td>\n      <td>Manhattan</td>\n      <td>2010</td>\n      <td>61</td>\n      <td>MN03</td>\n      <td>75282</td>\n    </tr>\n    <tr>\n      <th>3</th>\n      <td>Chelsea</td>\n      <td>34</td>\n      <td>Manhattan</td>\n      <td>2010</td>\n      <td>61</td>\n      <td>MN11</td>\n      <td>70150</td>\n    </tr>\n    <tr>\n      <th>4</th>\n      <td>Chinatown</td>\n      <td>36</td>\n      <td>Manhattan</td>\n      <td>2010</td>\n      <td>61</td>\n      <td>MN31</td>\n      <td>47844</td>\n    </tr>\n  </tbody>\n</table>\n</div>",
                        "text/plain": "        Neighborhood  Count    Borough  Year  FIPS County Code NTA Code  \\\n0  Battery Park City      6  Manhattan  2010                61     MN29   \n1      Carnegie Hill     14  Manhattan  2010                61     MN51   \n2     Central Harlem      2  Manhattan  2010                61     MN03   \n3            Chelsea     34  Manhattan  2010                61     MN11   \n4          Chinatown     36  Manhattan  2010                61     MN31   \n\n   Population  \n0       39699  \n1       84491  \n2       75282  \n3       70150  \n4       47844  "
                    },
                    "execution_count": 21,
                    "metadata": {},
                    "output_type": "execute_result"
                }
            ],
            "source": "df_summary = df_count.join(population.set_index('NTA Name'), on='Neighborhood')\ndf_summary.head()"
        },
        {
            "cell_type": "markdown",
            "metadata": {},
            "source": "For comparison, we define \"market index\" as population of a neighborhood divided by the total number of restaurants in the same area:"
        },
        {
            "cell_type": "code",
            "execution_count": 24,
            "metadata": {},
            "outputs": [
                {
                    "data": {
                        "text/html": "<div>\n<style scoped>\n    .dataframe tbody tr th:only-of-type {\n        vertical-align: middle;\n    }\n\n    .dataframe tbody tr th {\n        vertical-align: top;\n    }\n\n    .dataframe thead th {\n        text-align: right;\n    }\n</style>\n<table border=\"1\" class=\"dataframe\">\n  <thead>\n    <tr style=\"text-align: right;\">\n      <th></th>\n      <th>Neighborhood</th>\n      <th>Count</th>\n      <th>Borough</th>\n      <th>Year</th>\n      <th>FIPS County Code</th>\n      <th>NTA Code</th>\n      <th>Population</th>\n      <th>Market</th>\n    </tr>\n  </thead>\n  <tbody>\n    <tr>\n      <th>0</th>\n      <td>Battery Park City</td>\n      <td>6</td>\n      <td>Manhattan</td>\n      <td>2010</td>\n      <td>61</td>\n      <td>MN29</td>\n      <td>39699</td>\n      <td>6616.500000</td>\n    </tr>\n    <tr>\n      <th>1</th>\n      <td>Carnegie Hill</td>\n      <td>14</td>\n      <td>Manhattan</td>\n      <td>2010</td>\n      <td>61</td>\n      <td>MN51</td>\n      <td>84491</td>\n      <td>6035.071429</td>\n    </tr>\n    <tr>\n      <th>2</th>\n      <td>Central Harlem</td>\n      <td>2</td>\n      <td>Manhattan</td>\n      <td>2010</td>\n      <td>61</td>\n      <td>MN03</td>\n      <td>75282</td>\n      <td>37641.000000</td>\n    </tr>\n    <tr>\n      <th>3</th>\n      <td>Chelsea</td>\n      <td>34</td>\n      <td>Manhattan</td>\n      <td>2010</td>\n      <td>61</td>\n      <td>MN11</td>\n      <td>70150</td>\n      <td>2063.235294</td>\n    </tr>\n    <tr>\n      <th>4</th>\n      <td>Chinatown</td>\n      <td>36</td>\n      <td>Manhattan</td>\n      <td>2010</td>\n      <td>61</td>\n      <td>MN31</td>\n      <td>47844</td>\n      <td>1329.000000</td>\n    </tr>\n  </tbody>\n</table>\n</div>",
                        "text/plain": "        Neighborhood  Count    Borough  Year  FIPS County Code NTA Code  \\\n0  Battery Park City      6  Manhattan  2010                61     MN29   \n1      Carnegie Hill     14  Manhattan  2010                61     MN51   \n2     Central Harlem      2  Manhattan  2010                61     MN03   \n3            Chelsea     34  Manhattan  2010                61     MN11   \n4          Chinatown     36  Manhattan  2010                61     MN31   \n\n   Population        Market  \n0       39699   6616.500000  \n1       84491   6035.071429  \n2       75282  37641.000000  \n3       70150   2063.235294  \n4       47844   1329.000000  "
                    },
                    "execution_count": 24,
                    "metadata": {},
                    "output_type": "execute_result"
                }
            ],
            "source": "# Compute \"market index\" (population / count) in each neighborhood\ndf_summary['Market'] = df_summary['Population'] / df_summary['Count']\ndf_summary.head()"
        },
        {
            "cell_type": "markdown",
            "metadata": {},
            "source": "At last, we sort neighborhoods according to their market indices and then display the top 5 in the list:"
        },
        {
            "cell_type": "code",
            "execution_count": 25,
            "metadata": {},
            "outputs": [
                {
                    "data": {
                        "text/html": "<div>\n<style scoped>\n    .dataframe tbody tr th:only-of-type {\n        vertical-align: middle;\n    }\n\n    .dataframe tbody tr th {\n        vertical-align: top;\n    }\n\n    .dataframe thead th {\n        text-align: right;\n    }\n</style>\n<table border=\"1\" class=\"dataframe\">\n  <thead>\n    <tr style=\"text-align: right;\">\n      <th></th>\n      <th>Neighborhood</th>\n      <th>Count</th>\n      <th>Borough</th>\n      <th>Year</th>\n      <th>FIPS County Code</th>\n      <th>NTA Code</th>\n      <th>Population</th>\n      <th>Market</th>\n    </tr>\n  </thead>\n  <tbody>\n    <tr>\n      <th>27</th>\n      <td>Roosevelt Island</td>\n      <td>1</td>\n      <td>Manhattan</td>\n      <td>2010</td>\n      <td>61</td>\n      <td>MN34</td>\n      <td>80771</td>\n      <td>80771.000000</td>\n    </tr>\n    <tr>\n      <th>24</th>\n      <td>Morningside Heights</td>\n      <td>1</td>\n      <td>Manhattan</td>\n      <td>2010</td>\n      <td>61</td>\n      <td>MN07</td>\n      <td>55929</td>\n      <td>55929.000000</td>\n    </tr>\n    <tr>\n      <th>36</th>\n      <td>Washington Heights</td>\n      <td>3</td>\n      <td>Manhattan</td>\n      <td>2010</td>\n      <td>61</td>\n      <td>MN37</td>\n      <td>151574</td>\n      <td>50524.666667</td>\n    </tr>\n    <tr>\n      <th>21</th>\n      <td>Marble Hill</td>\n      <td>1</td>\n      <td>Manhattan</td>\n      <td>2010</td>\n      <td>61</td>\n      <td>MN01</td>\n      <td>46746</td>\n      <td>46746.000000</td>\n    </tr>\n    <tr>\n      <th>2</th>\n      <td>Central Harlem</td>\n      <td>2</td>\n      <td>Manhattan</td>\n      <td>2010</td>\n      <td>61</td>\n      <td>MN03</td>\n      <td>75282</td>\n      <td>37641.000000</td>\n    </tr>\n  </tbody>\n</table>\n</div>",
                        "text/plain": "           Neighborhood  Count    Borough  Year  FIPS County Code NTA Code  \\\n27     Roosevelt Island      1  Manhattan  2010                61     MN34   \n24  Morningside Heights      1  Manhattan  2010                61     MN07   \n36   Washington Heights      3  Manhattan  2010                61     MN37   \n21          Marble Hill      1  Manhattan  2010                61     MN01   \n2        Central Harlem      2  Manhattan  2010                61     MN03   \n\n    Population        Market  \n27       80771  80771.000000  \n24       55929  55929.000000  \n36      151574  50524.666667  \n21       46746  46746.000000  \n2        75282  37641.000000  "
                    },
                    "execution_count": 25,
                    "metadata": {},
                    "output_type": "execute_result"
                }
            ],
            "source": "df_summary = df_summary.sort_values(by=['Market'], ascending=False)\ndf_summary.head()"
        },
        {
            "cell_type": "markdown",
            "metadata": {},
            "source": "## Result"
        },
        {
            "cell_type": "markdown",
            "metadata": {},
            "source": "The market index indicates the existing market size (i.e. potential number of customers) each existing\nJapanese restaurant in the given neighborhood is having. The following table shows the 5 neighborhoods\nwith the largest market index:"
        },
        {
            "cell_type": "code",
            "execution_count": 26,
            "metadata": {},
            "outputs": [
                {
                    "data": {
                        "text/html": "<div>\n<style scoped>\n    .dataframe tbody tr th:only-of-type {\n        vertical-align: middle;\n    }\n\n    .dataframe tbody tr th {\n        vertical-align: top;\n    }\n\n    .dataframe thead th {\n        text-align: right;\n    }\n</style>\n<table border=\"1\" class=\"dataframe\">\n  <thead>\n    <tr style=\"text-align: right;\">\n      <th></th>\n      <th>Neighborhood</th>\n      <th>Count</th>\n      <th>Borough</th>\n      <th>Year</th>\n      <th>FIPS County Code</th>\n      <th>NTA Code</th>\n      <th>Population</th>\n      <th>Market</th>\n    </tr>\n  </thead>\n  <tbody>\n    <tr>\n      <th>27</th>\n      <td>Roosevelt Island</td>\n      <td>1</td>\n      <td>Manhattan</td>\n      <td>2010</td>\n      <td>61</td>\n      <td>MN34</td>\n      <td>80771</td>\n      <td>80771.000000</td>\n    </tr>\n    <tr>\n      <th>24</th>\n      <td>Morningside Heights</td>\n      <td>1</td>\n      <td>Manhattan</td>\n      <td>2010</td>\n      <td>61</td>\n      <td>MN07</td>\n      <td>55929</td>\n      <td>55929.000000</td>\n    </tr>\n    <tr>\n      <th>36</th>\n      <td>Washington Heights</td>\n      <td>3</td>\n      <td>Manhattan</td>\n      <td>2010</td>\n      <td>61</td>\n      <td>MN37</td>\n      <td>151574</td>\n      <td>50524.666667</td>\n    </tr>\n    <tr>\n      <th>21</th>\n      <td>Marble Hill</td>\n      <td>1</td>\n      <td>Manhattan</td>\n      <td>2010</td>\n      <td>61</td>\n      <td>MN01</td>\n      <td>46746</td>\n      <td>46746.000000</td>\n    </tr>\n    <tr>\n      <th>2</th>\n      <td>Central Harlem</td>\n      <td>2</td>\n      <td>Manhattan</td>\n      <td>2010</td>\n      <td>61</td>\n      <td>MN03</td>\n      <td>75282</td>\n      <td>37641.000000</td>\n    </tr>\n  </tbody>\n</table>\n</div>",
                        "text/plain": "           Neighborhood  Count    Borough  Year  FIPS County Code NTA Code  \\\n27     Roosevelt Island      1  Manhattan  2010                61     MN34   \n24  Morningside Heights      1  Manhattan  2010                61     MN07   \n36   Washington Heights      3  Manhattan  2010                61     MN37   \n21          Marble Hill      1  Manhattan  2010                61     MN01   \n2        Central Harlem      2  Manhattan  2010                61     MN03   \n\n    Population        Market  \n27       80771  80771.000000  \n24       55929  55929.000000  \n36      151574  50524.666667  \n21       46746  46746.000000  \n2        75282  37641.000000  "
                    },
                    "execution_count": 26,
                    "metadata": {},
                    "output_type": "execute_result"
                }
            ],
            "source": "df_summary.head()"
        },
        {
            "cell_type": "markdown",
            "metadata": {},
            "source": "## Discussion"
        },
        {
            "cell_type": "markdown",
            "metadata": {},
            "source": "From the result, Roosevelt Island has a large population and only 1 Japanese restaurant, and so it would be the best place for opening a new Japanese restaurant as the competition at there is small. Other good locations with similar low level of competition are Moningside Heights, Washington Heights, Marble Hill and Central Harlem."
        },
        {
            "cell_type": "markdown",
            "metadata": {},
            "source": "## Conclusion"
        },
        {
            "cell_type": "markdown",
            "metadata": {},
            "source": "Based on the analysis on the distribution of restaurant in Manhattan, New York City with their market indices, several good locations with low level of competition and high population have been identified for opening new Japanese restaurant in the Manhattan area."
        },
        {
            "cell_type": "code",
            "execution_count": null,
            "metadata": {},
            "outputs": [],
            "source": ""
        }
    ],
    "metadata": {
        "kernelspec": {
            "display_name": "Python 3.6",
            "language": "python",
            "name": "python3"
        },
        "language_info": {
            "codemirror_mode": {
                "name": "ipython",
                "version": 3
            },
            "file_extension": ".py",
            "mimetype": "text/x-python",
            "name": "python",
            "nbconvert_exporter": "python",
            "pygments_lexer": "ipython3",
            "version": "3.6.8"
        }
    },
    "nbformat": 4,
    "nbformat_minor": 1
}